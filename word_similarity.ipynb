{
 "cells": [
  {
   "cell_type": "code",
   "execution_count": 1,
   "metadata": {},
   "outputs": [
    {
     "name": "stderr",
     "output_type": "stream",
     "text": [
      "C:\\Users\\Andre\\AppData\\Roaming\\Python\\Python312\\site-packages\\sentence_transformers\\cross_encoder\\CrossEncoder.py:13: TqdmWarning: IProgress not found. Please update jupyter and ipywidgets. See https://ipywidgets.readthedocs.io/en/stable/user_install.html\n",
      "  from tqdm.autonotebook import tqdm, trange\n"
     ]
    }
   ],
   "source": [
    "import pandas as pd\n",
    "from sentence_transformers import SentenceTransformer, util\n",
    "from sklearn.feature_extraction.text import TfidfVectorizer\n",
    "from sklearn.metrics.pairwise import cosine_similarity\n",
    "import os"
   ]
  },
  {
   "cell_type": "code",
   "execution_count": 56,
   "metadata": {},
   "outputs": [
    {
     "data": {
      "text/plain": [
       "Index(['Unnamed: 0', 'eventid', 'iyear', 'imonth', 'iday', 'country',\n",
       "       'country_txt', 'region', 'region_txt', 'latitude', 'longitude',\n",
       "       'summary', 'crit1', 'crit2', 'crit3', 'multiple', 'success', 'suicide',\n",
       "       'attacktype1', 'attacktype1_txt', 'targtype1', 'targtype1_txt',\n",
       "       'targsubtype1', 'targsubtype1_txt', 'corp1', 'target1', 'natlty1',\n",
       "       'natlty1_txt', 'gname', 'motive', 'guncertain1', 'individual', 'nperps',\n",
       "       'nperpcap', 'claimed', 'claimmode', 'claimmode_txt', 'weaptype1',\n",
       "       'weaptype1_txt', 'weapsubtype1', 'weapsubtype1_txt', 'weapdetail',\n",
       "       'nkill', 'nkillter', 'nwound', 'nwoundte', 'property', 'propextent',\n",
       "       'propextent_txt', 'propvalue', 'ishostkid', 'nhostkid', 'nhours',\n",
       "       'ndays', 'ransom', 'ransomamt', 'ransompaid', 'nreleased', 'scite1',\n",
       "       'INT_LOG', 'INT_IDEO', 'INT_MISC', 'INT_ANY', 'related', 'flag'],\n",
       "      dtype='object')"
      ]
     },
     "execution_count": 56,
     "metadata": {},
     "output_type": "execute_result"
    }
   ],
   "source": [
    "def calculate_cosine_similarities(df, input_text, k=3):\n",
    "    # Step 1: Vectorize the text data\n",
    "    vectorizer = TfidfVectorizer()\n",
    "    tfidf_matrix = vectorizer.fit_transform(df['summary'].tolist())\n",
    "\n",
    "    # Step 2: Vectorize the input text\n",
    "    input_vector = vectorizer.transform([input_text])\n",
    "\n",
    "    # Step 3: Calculate cosine similarity between the input text and each row in the DataFrame\n",
    "    similarities = cosine_similarity(input_vector, tfidf_matrix).flatten()\n",
    "\n",
    "    # Step 4: Get the indices and values of the top k most similar texts\n",
    "    top_k_indices = similarities.argsort()[-k:][::-1]  # Get top k indices in descending order\n",
    "    top_k_values = similarities[top_k_indices]  # Get the corresponding similarity scores\n",
    "\n",
    "    return top_k_indices, top_k_values\n",
    "\n",
    "def calculate_similarities_LM(df, input_text, k=3):\n",
    "    # Load a pre-trained sentence transformer model\n",
    "    model = SentenceTransformer('all-MiniLM-L6-v2')\n",
    "\n",
    "    # Step 1: Encode the text data into embeddings\n",
    "    embeddings = model.encode(df['summary'].tolist(), convert_to_tensor=True)\n",
    "\n",
    "    # Step 2: Encode the input text\n",
    "    input_embedding = model.encode(input_text, convert_to_tensor=True)\n",
    "\n",
    "    # Step 3: Calculate cosine similarity between the input text and each row in the DataFrame\n",
    "    similarities = util.pytorch_cos_sim(input_embedding, embeddings).squeeze()\n",
    "    top_k_sim = similarities.topk(k)\n",
    "\n",
    "    # Step 4: Get the indices of the top 3 most similar texts\n",
    "    top_k_indices = top_k_sim.indices.cpu().numpy()\n",
    "    top_k_values = top_k_sim.values.cpu().numpy()\n",
    "\n",
    "    return top_k_indices, top_k_values\n",
    "\n",
    "df = pd.read_csv(\"src/data/globalterrorism_2020_cleaned.csv\")\n",
    "df.columns"
   ]
  },
  {
   "cell_type": "code",
   "execution_count": 62,
   "metadata": {},
   "outputs": [
    {
     "name": "stdout",
     "output_type": "stream",
     "text": [
      "143586\n",
      "Top k most similar:\n",
      "0.36097593463857713\n",
      "02/14/2015: An assailant opened fire on a cultural center hosting a Free Speech debate in Copenhagen, Capital, Denmark. One civilian was killed and three police officers were wounded in the attack. This was one of two attacks in Copenhagen attributed to the same individual within hours of each other. No group claimed responsibility for the incident; however, sources attributed the attack to an individual, identified as Omar El-Hussein.\n",
      "0.3553447234086482\n",
      "02/14/2015: An assailant opened fire on a Jewish synagogue hosting a Bat Mitzvah in Copenhagen, Capital, Denmark. One civilian security guard was killed and two police officers were wounded in the attack. This was one of two attacks in Copenhagen attributed to the same individual within hours of each other. No group claimed responsibility for the incident; however, sources attributed the attack to an individual, identified as Omar El-Hussein.\n",
      "0.3210043654956148\n",
      "08/10/2019: An explosive device detonated at a police station in Copenhagen, Capital, Denmark. There were no reported casualties in the blast. No group claimed responsibility for the incident.\n",
      "0.2853296359239877\n",
      "09/26/2016: Assailants opened fire on Abdullahi Hussein, a deputy prosecutor, in Mogadishu, Banaadir, Somalia. Hussein was injured in the attack. Al-Shabaab claimed responsibility for the incident and accused Abdullahi Hussein of mistreating civilians and killing innocent people.\n",
      "0.2834732137192425\n",
      "03/19/2018: Assailants threw a petrol bomb at the Turkish Embassy in Copenhagen, Capital, Denmark. There were no reported casualties. No group claimed responsibility for the incident.\n"
     ]
    }
   ],
   "source": [
    "k = 5\n",
    "input_text = \"Denmark Omar El-Hussein\"\n",
    "similarity_calc = calculate_cosine_similarities #calculate_cosine_similarities, calculate_similarities_LM\n",
    "df_filtered = df[df[\"summary\"].notna()]\n",
    "#df_filtered = df[(df[\"iyear\"] == 2015)]\n",
    "print(len(df_filtered))\n",
    "\n",
    "if len(df_filtered) < 10000:\n",
    "    print(\"Too many observations, narrow it down!\")\n",
    "else:\n",
    "    indices, values = similarity_calc(df_filtered, input_text, k)\n",
    "    top_k = df_filtered.iloc[indices][\"summary\"].tolist()\n",
    "\n",
    "    # Display the IDs of the top 3 most similar rows\n",
    "    print(\"Top k most similar:\")\n",
    "    for i in range(0, k):\n",
    "        print(values[i])\n",
    "        print(top_k[i])"
   ]
  }
 ],
 "metadata": {
  "kernelspec": {
   "display_name": "Python 3",
   "language": "python",
   "name": "python3"
  },
  "language_info": {
   "codemirror_mode": {
    "name": "ipython",
    "version": 3
   },
   "file_extension": ".py",
   "mimetype": "text/x-python",
   "name": "python",
   "nbconvert_exporter": "python",
   "pygments_lexer": "ipython3",
   "version": "3.12.2"
  }
 },
 "nbformat": 4,
 "nbformat_minor": 2
}
