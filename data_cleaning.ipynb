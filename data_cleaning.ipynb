{
 "cells": [
  {
   "cell_type": "code",
   "execution_count": 1,
   "metadata": {},
   "outputs": [],
   "source": [
    "import pandas as pd\n",
    "import numpy as np"
   ]
  },
  {
   "cell_type": "markdown",
   "metadata": {},
   "source": [
    "# Terror data"
   ]
  },
  {
   "cell_type": "code",
   "execution_count": 48,
   "metadata": {},
   "outputs": [],
   "source": [
    "terror_encoding = 'ISO-8859-1'\n",
    "df_terror = pd.read_csv('src/data/globalterrorism_2020.csv', encoding=terror_encoding, low_memory=False)"
   ]
  },
  {
   "cell_type": "code",
   "execution_count": 49,
   "metadata": {},
   "outputs": [
    {
     "name": "stdout",
     "output_type": "stream",
     "text": [
      "(209706, 135)\n",
      "(209706, 132)\n"
     ]
    }
   ],
   "source": [
    "def clean_date(df):\n",
    "    df[df['imonth'] == 0] = None\n",
    "    df[df['iday'] == 0] = None\n",
    "    df_cleaned = df.drop(columns=['approxdate', 'extended', 'resolution'])\n",
    "    return df_cleaned\n",
    "\n",
    "print(df_terror.shape)\n",
    "df_terror = clean_date(df_terror)\n",
    "print(df_terror.shape)"
   ]
  },
  {
   "cell_type": "code",
   "execution_count": 50,
   "metadata": {},
   "outputs": [
    {
     "name": "stdout",
     "output_type": "stream",
     "text": [
      "(209706, 132)\n",
      "(209706, 129)\n"
     ]
    }
   ],
   "source": [
    "def clean_incident_information(df):\n",
    "    df_cleaned = df.drop(columns=['doubtterr', 'alternative', 'alternative_txt'])\n",
    "\n",
    "    # check all criterias are met\n",
    "    criterion = lambda a, b, c: df_cleaned[(df_cleaned['crit1'] == a) & (df_cleaned['crit2'] == b) & (df_cleaned['crit3'] == c)].shape[0]\n",
    "    assert (criterion(0, 0, 0) == 0 \n",
    "            & criterion(1, 0, 0) == 0 \n",
    "            & criterion(0, 1, 0) == 0 \n",
    "            & criterion(0, 0, 1) == 0), 'At least 2 criterias must be satisfied'\n",
    "\n",
    "    return df_cleaned\n",
    "\n",
    "print(df_terror.shape)\n",
    "df_terror = clean_incident_information(df_terror)\n",
    "print(df_terror.shape)"
   ]
  },
  {
   "cell_type": "code",
   "execution_count": 51,
   "metadata": {},
   "outputs": [
    {
     "name": "stdout",
     "output_type": "stream",
     "text": [
      "(209706, 129)\n",
      "(204210, 124)\n"
     ]
    }
   ],
   "source": [
    "def clean_incident_location(df):\n",
    "    # remove all attacks without/invalid location\n",
    "    df = df.query('-90 <= latitude <= 90 & -180 <= longitude <= 180')\n",
    "\n",
    "    # keep all attacks without location but set invalid location to None\n",
    "    #df[(df['latitude'] < -90) | (df['latitude'] > 90)] = None\n",
    "    #df[(df['longitude'] < -180) | (df['longitude'] > 180)] = None\n",
    "\n",
    "    df_cleaned = df.drop(columns=['provstate', 'city', 'vicinity', 'location', 'specificity'])\n",
    "    return df_cleaned\n",
    "\n",
    "print(df_terror.shape)\n",
    "df_terror = clean_incident_location(df_terror)\n",
    "print(df_terror.shape)"
   ]
  },
  {
   "cell_type": "code",
   "execution_count": 52,
   "metadata": {},
   "outputs": [
    {
     "name": "stdout",
     "output_type": "stream",
     "text": [
      "(204210, 124)\n",
      "(204210, 120)\n"
     ]
    }
   ],
   "source": [
    "def clean_attack_information(df):\n",
    "    df_cleaned = df.drop(columns=['attacktype2', 'attacktype2_txt', 'attacktype3', 'attacktype3_txt'])\n",
    "    return df_cleaned\n",
    "\n",
    "print(df_terror.shape)\n",
    "df_terror = clean_attack_information(df_terror)\n",
    "print(df_terror.shape)"
   ]
  },
  {
   "cell_type": "code",
   "execution_count": 53,
   "metadata": {},
   "outputs": [
    {
     "name": "stdout",
     "output_type": "stream",
     "text": [
      "(204210, 120)\n",
      "(204210, 108)\n"
     ]
    }
   ],
   "source": [
    "def clean_weapon_information(df):\n",
    "    # drop non-primary weapon information\n",
    "    df_cleaned = df.drop(columns=['weaptype2', 'weaptype2_txt', 'weapsubtype2', 'weapsubtype2_txt',\n",
    "                                  'weaptype3', 'weaptype3_txt', 'weapsubtype3', 'weapsubtype3_txt',\n",
    "                                  'weaptype4', 'weaptype4_txt', 'weapsubtype4', 'weapsubtype4_txt'])\n",
    "    \n",
    "    # keep weapon details?\n",
    "    #df_cleaned = df_cleaned.drop(columns=['weapdetail'])\n",
    "    return df_cleaned\n",
    "\n",
    "print(df_terror.shape)\n",
    "df_terror = clean_weapon_information(df_terror)\n",
    "print(df_terror.shape)"
   ]
  },
  {
   "cell_type": "code",
   "execution_count": null,
   "metadata": {},
   "outputs": [],
   "source": [
    "# mangler\n",
    "def clean_target_victim_information(df):\n",
    "    df_cleaned = df\n",
    "    return df_cleaned\n",
    "\n",
    "print(df_terror.shape)\n",
    "df_terror = clean_target_victim_information(df_terror)\n",
    "print(df_terror.shape)"
   ]
  },
  {
   "cell_type": "code",
   "execution_count": null,
   "metadata": {},
   "outputs": [],
   "source": [
    "# mangler\n",
    "def clean_perpetrator_information(df):\n",
    "    df_cleaned = df\n",
    "    return df_cleaned\n",
    "\n",
    "print(df_terror.shape)\n",
    "df_terror = clean_perpetrator_information(df_terror)\n",
    "print(df_terror.shape)"
   ]
  },
  {
   "cell_type": "code",
   "execution_count": null,
   "metadata": {},
   "outputs": [],
   "source": [
    "# mangler\n",
    "def clean_casualities_and_consequences(df):\n",
    "    df_cleaned = df\n",
    "    return df_cleaned\n",
    "\n",
    "print(df_terror.shape)\n",
    "df_terror = clean_casualities_and_consequences(df_terror)\n",
    "print(df_terror.shape)"
   ]
  },
  {
   "cell_type": "code",
   "execution_count": null,
   "metadata": {},
   "outputs": [],
   "source": [
    "# mangler\n",
    "def clean_additional_information_and_sources(df):\n",
    "    df_cleaned = df\n",
    "    return df_cleaned\n",
    "\n",
    "print(df_terror.shape)\n",
    "df_terror = clean_additional_information_and_sources(df_terror)\n",
    "print(df_terror.shape)"
   ]
  },
  {
   "cell_type": "code",
   "execution_count": null,
   "metadata": {},
   "outputs": [],
   "source": [
    "df_terror.to_csv('src/data/globalterrorism_2020_cleaned.csv', encoding=terror_encoding)"
   ]
  },
  {
   "cell_type": "markdown",
   "metadata": {},
   "source": [
    "# Country data"
   ]
  }
 ],
 "metadata": {
  "kernelspec": {
   "display_name": "Python 3",
   "language": "python",
   "name": "python3"
  },
  "language_info": {
   "codemirror_mode": {
    "name": "ipython",
    "version": 3
   },
   "file_extension": ".py",
   "mimetype": "text/x-python",
   "name": "python",
   "nbconvert_exporter": "python",
   "pygments_lexer": "ipython3",
   "version": "3.12.1"
  }
 },
 "nbformat": 4,
 "nbformat_minor": 2
}
